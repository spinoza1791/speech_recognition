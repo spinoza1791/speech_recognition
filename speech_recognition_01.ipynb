{
  "nbformat": 4,
  "nbformat_minor": 0,
  "metadata": {
    "colab": {
      "name": "speech_recognition_01.ipynb",
      "version": "0.3.2",
      "provenance": [],
      "collapsed_sections": [],
      "toc_visible": true,
      "include_colab_link": true
    },
    "kernelspec": {
      "name": "python3",
      "display_name": "Python 3"
    },
    "accelerator": "GPU"
  },
  "cells": [
    {
      "cell_type": "markdown",
      "metadata": {
        "id": "view-in-github",
        "colab_type": "text"
      },
      "source": [
        "<a href=\"https://colab.research.google.com/github/spinoza1791/speech_recognition/blob/master/speech_recognition_01.ipynb\" target=\"_parent\"><img src=\"https://colab.research.google.com/assets/colab-badge.svg\" alt=\"Open In Colab\"/></a>"
      ]
    },
    {
      "cell_type": "code",
      "metadata": {
        "id": "7U1hlo-bNVsZ",
        "colab_type": "code",
        "outputId": "7434e712-ea44-4d09-b1df-5c5568928d39",
        "colab": {
          "base_uri": "https://localhost:8080/",
          "height": 35
        }
      },
      "source": [
        "import tensorflow as tf\n",
        "tf.test.gpu_device_name()"
      ],
      "execution_count": 0,
      "outputs": [
        {
          "output_type": "execute_result",
          "data": {
            "text/plain": [
              "'/device:GPU:0'"
            ]
          },
          "metadata": {
            "tags": []
          },
          "execution_count": 1
        }
      ]
    },
    {
      "cell_type": "code",
      "metadata": {
        "id": "DlxIE-UgObw9",
        "colab_type": "code",
        "outputId": "65c8cf48-9ed1-43a1-99b2-d817dd7d75b5",
        "colab": {
          "base_uri": "https://localhost:8080/",
          "height": 131
        }
      },
      "source": [
        "!python /content/tensorflow/tensorflow/examples/speech_commands/train.py"
      ],
      "execution_count": 0,
      "outputs": [
        {
          "output_type": "error",
          "ename": "SyntaxError",
          "evalue": "ignored",
          "traceback": [
            "\u001b[0;36m  File \u001b[0;32m\"<ipython-input-2-29e788145a25>\"\u001b[0;36m, line \u001b[0;32m1\u001b[0m\n\u001b[0;31m    python tensorflow/examples/speech_commands/train.py\u001b[0m\n\u001b[0m                    ^\u001b[0m\n\u001b[0;31mSyntaxError\u001b[0m\u001b[0;31m:\u001b[0m invalid syntax\n"
          ]
        }
      ]
    },
    {
      "cell_type": "code",
      "metadata": {
        "id": "yHH4MDOKO520",
        "colab_type": "code",
        "outputId": "a8e1a212-1423-4920-9595-60dc582f3eb2",
        "colab": {
          "base_uri": "https://localhost:8080/",
          "height": 35
        }
      },
      "source": [
        "!tensorboard --logdir /tmp/retrain_logs"
      ],
      "execution_count": 11,
      "outputs": [
        {
          "output_type": "stream",
          "text": [
            "TensorBoard 1.14.0 at http://a404be9fd366:6007/ (Press CTRL+C to quit)\n"
          ],
          "name": "stdout"
        }
      ]
    },
    {
      "cell_type": "code",
      "metadata": {
        "id": "y3fbwCrzccf5",
        "colab_type": "code",
        "colab": {
          "base_uri": "https://localhost:8080/",
          "height": 1000
        },
        "outputId": "f3c758aa-1d0c-40b3-a682-738c8511c5be"
      },
      "source": [
        "!python /content/tensorflow/tensorflow/examples/speech_commands/freeze.py \\\n",
        "--start_checkpoint=/tmp/speech_commands_train/conv.ckpt-18000 \\\n",
        "--output_file=/tmp/my_frozen_graph.pb"
      ],
      "execution_count": 19,
      "outputs": [
        {
          "output_type": "stream",
          "text": [
            "WARNING: Logging before flag parsing goes to stderr.\n",
            "W0707 21:59:09.246471 140367945262976 deprecation_wrapper.py:119] From /content/tensorflow/tensorflow/examples/speech_commands/freeze.py:239: The name tf.app.run is deprecated. Please use tf.compat.v1.app.run instead.\n",
            "\n",
            "W0707 21:59:09.247263 140367945262976 deprecation_wrapper.py:119] From /content/tensorflow/tensorflow/examples/speech_commands/freeze.py:158: The name tf.InteractiveSession is deprecated. Please use tf.compat.v1.InteractiveSession instead.\n",
            "\n",
            "2019-07-07 21:59:09.253776: I tensorflow/core/platform/profile_utils/cpu_utils.cc:94] CPU Frequency: 2300000000 Hz\n",
            "2019-07-07 21:59:09.254021: I tensorflow/compiler/xla/service/service.cc:168] XLA service 0x2609dc0 executing computations on platform Host. Devices:\n",
            "2019-07-07 21:59:09.254060: I tensorflow/compiler/xla/service/service.cc:175]   StreamExecutor device (0): <undefined>, <undefined>\n",
            "2019-07-07 21:59:09.270186: I tensorflow/stream_executor/platform/default/dso_loader.cc:42] Successfully opened dynamic library libcuda.so.1\n",
            "2019-07-07 21:59:09.405256: I tensorflow/stream_executor/cuda/cuda_gpu_executor.cc:1005] successful NUMA node read from SysFS had negative value (-1), but there must be at least one NUMA node, so returning NUMA node zero\n",
            "2019-07-07 21:59:09.405837: I tensorflow/compiler/xla/service/service.cc:168] XLA service 0x260b100 executing computations on platform CUDA. Devices:\n",
            "2019-07-07 21:59:09.405885: I tensorflow/compiler/xla/service/service.cc:175]   StreamExecutor device (0): Tesla T4, Compute Capability 7.5\n",
            "2019-07-07 21:59:09.406241: I tensorflow/stream_executor/cuda/cuda_gpu_executor.cc:1005] successful NUMA node read from SysFS had negative value (-1), but there must be at least one NUMA node, so returning NUMA node zero\n",
            "2019-07-07 21:59:09.406658: I tensorflow/core/common_runtime/gpu/gpu_device.cc:1640] Found device 0 with properties: \n",
            "name: Tesla T4 major: 7 minor: 5 memoryClockRate(GHz): 1.59\n",
            "pciBusID: 0000:00:04.0\n",
            "2019-07-07 21:59:09.409405: I tensorflow/stream_executor/platform/default/dso_loader.cc:42] Successfully opened dynamic library libcudart.so.10.0\n",
            "2019-07-07 21:59:09.424033: I tensorflow/stream_executor/platform/default/dso_loader.cc:42] Successfully opened dynamic library libcublas.so.10.0\n",
            "2019-07-07 21:59:09.428074: I tensorflow/stream_executor/platform/default/dso_loader.cc:42] Successfully opened dynamic library libcufft.so.10.0\n",
            "2019-07-07 21:59:09.437542: I tensorflow/stream_executor/platform/default/dso_loader.cc:42] Successfully opened dynamic library libcurand.so.10.0\n",
            "2019-07-07 21:59:09.448262: I tensorflow/stream_executor/platform/default/dso_loader.cc:42] Successfully opened dynamic library libcusolver.so.10.0\n",
            "2019-07-07 21:59:09.455827: I tensorflow/stream_executor/platform/default/dso_loader.cc:42] Successfully opened dynamic library libcusparse.so.10.0\n",
            "2019-07-07 21:59:09.468933: I tensorflow/stream_executor/platform/default/dso_loader.cc:42] Successfully opened dynamic library libcudnn.so.7\n",
            "2019-07-07 21:59:09.469100: I tensorflow/stream_executor/cuda/cuda_gpu_executor.cc:1005] successful NUMA node read from SysFS had negative value (-1), but there must be at least one NUMA node, so returning NUMA node zero\n",
            "2019-07-07 21:59:09.469561: I tensorflow/stream_executor/cuda/cuda_gpu_executor.cc:1005] successful NUMA node read from SysFS had negative value (-1), but there must be at least one NUMA node, so returning NUMA node zero\n",
            "2019-07-07 21:59:09.469879: I tensorflow/core/common_runtime/gpu/gpu_device.cc:1763] Adding visible gpu devices: 0\n",
            "2019-07-07 21:59:09.469933: I tensorflow/stream_executor/platform/default/dso_loader.cc:42] Successfully opened dynamic library libcudart.so.10.0\n",
            "2019-07-07 21:59:09.470863: I tensorflow/core/common_runtime/gpu/gpu_device.cc:1181] Device interconnect StreamExecutor with strength 1 edge matrix:\n",
            "2019-07-07 21:59:09.470891: I tensorflow/core/common_runtime/gpu/gpu_device.cc:1187]      0 \n",
            "2019-07-07 21:59:09.470900: I tensorflow/core/common_runtime/gpu/gpu_device.cc:1200] 0:   N \n",
            "2019-07-07 21:59:09.471227: I tensorflow/stream_executor/cuda/cuda_gpu_executor.cc:1005] successful NUMA node read from SysFS had negative value (-1), but there must be at least one NUMA node, so returning NUMA node zero\n",
            "2019-07-07 21:59:09.471663: I tensorflow/stream_executor/cuda/cuda_gpu_executor.cc:1005] successful NUMA node read from SysFS had negative value (-1), but there must be at least one NUMA node, so returning NUMA node zero\n",
            "2019-07-07 21:59:09.472026: I tensorflow/core/common_runtime/gpu/gpu_device.cc:1326] Created TensorFlow device (/job:localhost/replica:0/task:0/device:GPU:0 with 14089 MB memory) -> physical GPU (device: 0, name: Tesla T4, pci bus id: 0000:00:04.0, compute capability: 7.5)\n",
            "W0707 21:59:09.473042 140367945262976 deprecation_wrapper.py:119] From /content/tensorflow/tensorflow/examples/speech_commands/freeze.py:93: The name tf.placeholder is deprecated. Please use tf.compat.v1.placeholder instead.\n",
            "\n",
            "W0707 21:59:09.479567 140367945262976 deprecation_wrapper.py:119] From /content/tensorflow/tensorflow/examples/speech_commands/models.py:263: The name tf.get_variable is deprecated. Please use tf.compat.v1.get_variable instead.\n",
            "\n",
            "W0707 21:59:09.491804 140367945262976 deprecation_wrapper.py:119] From /content/tensorflow/tensorflow/examples/speech_commands/models.py:278: The name tf.nn.max_pool is deprecated. Please use tf.nn.max_pool2d instead.\n",
            "\n",
            "W0707 21:59:09.515534 140367945262976 deprecation_wrapper.py:119] From /content/tensorflow/tensorflow/examples/speech_commands/models.py:160: The name tf.train.Saver is deprecated. Please use tf.compat.v1.train.Saver instead.\n",
            "\n",
            "W0707 21:59:09.515680 140367945262976 deprecation_wrapper.py:119] From /content/tensorflow/tensorflow/examples/speech_commands/models.py:160: The name tf.global_variables is deprecated. Please use tf.compat.v1.global_variables instead.\n",
            "\n",
            "W0707 21:59:09.533000 140367945262976 deprecation.py:323] From /usr/local/lib/python3.6/dist-packages/tensorflow/python/training/saver.py:1276: checkpoint_exists (from tensorflow.python.training.checkpoint_management) is deprecated and will be removed in a future version.\n",
            "Instructions for updating:\n",
            "Use standard file APIs to check for files with this prefix.\n",
            "I0707 21:59:09.534559 140367945262976 saver.py:1280] Restoring parameters from /tmp/speech_commands_train/conv.ckpt-18000\n",
            "W0707 21:59:10.100226 140367945262976 deprecation.py:323] From /content/tensorflow/tensorflow/examples/speech_commands/freeze.py:169: convert_variables_to_constants (from tensorflow.python.framework.graph_util_impl) is deprecated and will be removed in a future version.\n",
            "Instructions for updating:\n",
            "Use `tf.compat.v1.graph_util.convert_variables_to_constants`\n",
            "W0707 21:59:10.100515 140367945262976 deprecation.py:323] From /usr/local/lib/python3.6/dist-packages/tensorflow/python/framework/graph_util_impl.py:270: extract_sub_graph (from tensorflow.python.framework.graph_util_impl) is deprecated and will be removed in a future version.\n",
            "Instructions for updating:\n",
            "Use `tf.compat.v1.graph_util.extract_sub_graph`\n",
            "I0707 21:59:10.110258 140367945262976 graph_util_impl.py:311] Froze 6 variables.\n",
            "I0707 21:59:10.122587 140367945262976 graph_util_impl.py:364] Converted 6 variables to const ops.\n",
            "W0707 21:59:10.123102 140367945262976 deprecation_wrapper.py:119] From /content/tensorflow/tensorflow/examples/speech_commands/freeze.py:170: The name tf.train.write_graph is deprecated. Please use tf.io.write_graph instead.\n",
            "\n",
            "W0707 21:59:10.130689 140367945262976 deprecation_wrapper.py:119] From /content/tensorflow/tensorflow/examples/speech_commands/freeze.py:175: The name tf.logging.info is deprecated. Please use tf.compat.v1.logging.info instead.\n",
            "\n",
            "I0707 21:59:10.130819 140367945262976 freeze.py:175] Saved frozen graph to /tmp/my_frozen_graph.pb\n"
          ],
          "name": "stdout"
        }
      ]
    },
    {
      "cell_type": "code",
      "metadata": {
        "id": "RRxF9fKTc2zc",
        "colab_type": "code",
        "colab": {}
      },
      "source": [
        "!python /content/tensorflow/tensorflow/examples/speech_commands/label_wav.py \\\n",
        "--graph=/tmp/my_frozen_graph.pb \\\n",
        "--labels=/tmp/speech_commands_train/conv_labels.txt \\\n",
        "--wav=/tmp/speech_dataset/left/a5d485dc_nohash_0.wav"
      ],
      "execution_count": 0,
      "outputs": []
    }
  ]
}